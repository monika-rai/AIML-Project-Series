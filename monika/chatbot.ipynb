{
 "cells": [
  {
   "cell_type": "code",
   "execution_count": 1,
   "id": "5380c579-17df-4d87-ae87-7b5124a61aa9",
   "metadata": {},
   "outputs": [
    {
     "name": "stdout",
     "output_type": "stream",
     "text": [
      "Greetings, Monika!\n"
     ]
    }
   ],
   "source": [
    "import nltk\n",
    "import string\n",
    "import random\n",
    "\n",
    "greetings = [\n",
    "    \"Hello\",\n",
    "    \"Hi\",\n",
    "    \"Greetings\",\n",
    "    \"Hey\",\n",
    "    \"Welcome\"\n",
    "]\n",
    "username = \"Monika\"\n",
    "\n",
    "def greet_user(username): # define the function greet_user\n",
    "    print(random.choice(greetings) + \", \" + username + \"!\")\n",
    "\n",
    "greet_user(username)"
   ]
  },
  {
   "cell_type": "code",
   "execution_count": 2,
   "id": "c6dee7a8-ea53-4dcb-8f5b-eb9fd5d3e812",
   "metadata": {},
   "outputs": [
    {
     "name": "stdout",
     "output_type": "stream",
     "text": [
      "Greetings, Monika!\n",
      "None\n"
     ]
    }
   ],
   "source": [
    "username = \"Monika\"\n",
    "print(greet_user(username))\n"
   ]
  },
  {
   "cell_type": "code",
   "execution_count": 3,
   "id": "55b3d991-4116-4a04-aebb-4053e89ff076",
   "metadata": {},
   "outputs": [],
   "source": [
    "def greet_user(username):\n",
    "    greetings = [\n",
    "        \"Hello\",\n",
    "        \"Hi\",\n",
    "        \"Greetings\",\n",
    "        \"Hey\",\n",
    "        \"Welcome\"\n",
    "    ]\n",
    "\n",
    "    import random\n",
    "    greeting = random.choice(greetings)\n",
    "    return f\"{greeting}, {username}!\"\n",
    "\n"
   ]
  },
  {
   "cell_type": "code",
   "execution_count": 4,
   "id": "27eb351e-142f-4ce7-b877-568393bcc74a",
   "metadata": {},
   "outputs": [],
   "source": [
    "def chatbot_response(user_input):\n",
    "    responses = {\n",
    "        \"how are you?\": \"I'm just a bot, but I'm doing great! How can I help you today?\",\n",
    "        \"what's your name?\": \"I'm ChatGPT, your friendly assistant.\",\n",
    "        \"what can you do?\": \"I can help answer questions, chat with you, and assist with various tasks.\",\n",
    "        \"tell me a joke\": \"Why don't scientists trust atoms? Because they make up everything!\",\n",
    "        \"what is the capital of France?\": \"The capital of France is Paris.\",\n",
    "    }\n"
   ]
  },
  {
   "cell_type": "code",
   "execution_count": 5,
   "id": "1939a1e4-a173-4f04-8036-106b41e96a73",
   "metadata": {},
   "outputs": [
    {
     "data": {
      "text/plain": [
       "'Hi there!'"
      ]
     },
     "execution_count": 5,
     "metadata": {},
     "output_type": "execute_result"
    }
   ],
   "source": [
    "user_input = \"Hello\"\n",
    "responses = {\n",
    "  \"hello\": \"Hi there!\",\n",
    "  \"how are you?\": \"I'm doing well, thank you!\"\n",
    "}\n",
    "user_input = user_input.lower()\n",
    "responses.get(user_input, \"Sorry, I don't understand that question. Can you ask something else?\")"
   ]
  },
  {
   "cell_type": "code",
   "execution_count": 6,
   "id": "76507041-2951-4f94-b52a-0578894a80fb",
   "metadata": {},
   "outputs": [
    {
     "name": "stdout",
     "output_type": "stream",
     "text": [
      "Hi, Monika!\n"
     ]
    }
   ],
   "source": [
    "username = \"Monika\"\n",
    "print(greet_user(username))\n",
    "\n"
   ]
  },
  {
   "cell_type": "code",
   "execution_count": 7,
   "id": "e36aaa22-97dd-46d6-8083-3264d03b4368",
   "metadata": {},
   "outputs": [],
   "source": [
    "user_inputs = [\n",
    "    \"How are you?\",\n",
    "    \"What's your name?\",\n",
    "    \"What can you do?\",\n",
    "    \"Tell me a joke\",\n",
    "    \"What is the capital of France?\",\n",
    "    \"What's the weather like today?\"\n",
    "]\n"
   ]
  },
  {
   "cell_type": "code",
   "execution_count": 8,
   "id": "ea14cec5-16a7-47dc-856c-398d8e0aede5",
   "metadata": {},
   "outputs": [
    {
     "data": {
      "text/plain": [
       "'Hi, Monika!'"
      ]
     },
     "execution_count": 8,
     "metadata": {},
     "output_type": "execute_result"
    }
   ],
   "source": [
    "import random\n",
    "greetings = [\n",
    "        \"Hello\",\n",
    "        \"Hi\",\n",
    "        \"Greetings\",\n",
    "        \"Hey\",\n",
    "        \"Welcome\"\n",
    "    ]\n",
    "username = \"Monika\"\n",
    "greeting = random.choice(greetings)\n",
    "f\"{greeting}, {username}!\""
   ]
  },
  {
   "cell_type": "code",
   "execution_count": 9,
   "id": "54ef09d9-cda7-4d57-8855-c92d3ec45813",
   "metadata": {},
   "outputs": [],
   "source": [
    "def greet_user(username):\n",
    "    greetings = [\n",
    "        \"Hello\",\n",
    "        \"Hi\",\n",
    "        \"Greetings\",\n",
    "        \"Hey\",\n",
    "        \"Welcome\"\n",
    "    ]\n",
    "\n",
    "    import random\n",
    "    greeting = random.choice(greetings)\n",
    "    return f\"{greeting}, {username}!\"\n"
   ]
  },
  {
   "cell_type": "code",
   "execution_count": 10,
   "id": "ccbe8c75-5d83-4b7d-ad33-0f497ab75066",
   "metadata": {},
   "outputs": [],
   "source": [
    "def farewell_user(username):\n",
    "    farewells = [\n",
    "        \"Goodbye\",\n",
    "        \"See you later\",\n",
    "        \"Take care\",\n",
    "        \"Farewell\",\n",
    "        \"Have a great day\"\n",
    "    ]\n"
   ]
  },
  {
   "cell_type": "code",
   "execution_count": 11,
   "id": "8baf562e-e4fc-4b27-8a99-9b6034037e16",
   "metadata": {},
   "outputs": [
    {
     "data": {
      "text/plain": [
       "'Goodbye, monika!'"
      ]
     },
     "execution_count": 11,
     "metadata": {},
     "output_type": "execute_result"
    }
   ],
   "source": [
    "import random\n",
    "def farewell_user(username):\n",
    "  farewells = [\n",
    "          \"Goodbye\",\n",
    "          \"See you later\",\n",
    "          \"Farewell\",\n",
    "          \"Take care\",\n",
    "          \"Have a good one\"\n",
    "      ]\n",
    "  farewell = random.choice(farewells)\n",
    "  return f\"{farewell}, {username}!\"\n",
    "\n",
    "username = \"monika\"\n",
    "farewell_user(username)"
   ]
  },
  {
   "cell_type": "code",
   "execution_count": 12,
   "id": "722a4deb-3100-4ca9-a412-cd4b722ac957",
   "metadata": {},
   "outputs": [],
   "source": [
    "def chatbot_response(user_input):\n",
    "    responses = {\n",
    "        \"how are you?\": \"I'm just a bot, but I'm doing great! How can I help you today?\",\n",
    "        \"what's your name?\": \"I'm ChatGPT, your friendly assistant.\",\n",
    "        \"what can you do?\": \"I can help answer questions, chat with you, and assist with various tasks.\",\n",
    "        \"tell me a joke\": \"Why don't scientists trust atoms? Because they make up everything!\",\n",
    "        \"what is the capital of France?\": \"The capital of France is Paris.\",\n",
    "        \"goodbye\": farewell_user(\"User\")\n",
    "    }\n"
   ]
  },
  {
   "cell_type": "code",
   "execution_count": 13,
   "id": "18d3883e-1ad6-4b47-8426-ec3a7c21e44f",
   "metadata": {},
   "outputs": [
    {
     "data": {
      "text/plain": [
       "'Hi there!'"
      ]
     },
     "execution_count": 13,
     "metadata": {},
     "output_type": "execute_result"
    }
   ],
   "source": [
    "def get_response(user_input):\n",
    "  user_input = user_input.lower()\n",
    "  responses = {\n",
    "    \"hello\": \"Hi there!\",\n",
    "    \"how are you?\": \"I'm doing well, thank you!\"\n",
    "  }\n",
    "  return responses.get(user_input, \"Sorry, I don't understand that question. Can you ask something else?\")\n",
    "\n",
    "get_response(\"hello\")"
   ]
  },
  {
   "cell_type": "code",
   "execution_count": 14,
   "id": "bc04f16b-7a03-455f-be8b-1356950c16e0",
   "metadata": {},
   "outputs": [],
   "source": [
    "class Chatbot:\n",
    "    def __init__(self):\n",
    "        self.sessions = {}\n",
    "\n",
    "    def greet_user(self, username):\n",
    "        greetings = [\n",
    "            \"Hello\",\n",
    "            \"Hi\",\n",
    "            \"Greetings\",\n",
    "            \"Hey\",\n",
    "            \"Welcome\"\n",
    "        ]\n"
   ]
  },
  {
   "cell_type": "code",
   "execution_count": 15,
   "id": "e92f4ff2-fa65-495d-aebe-0cea78137ea1",
   "metadata": {},
   "outputs": [
    {
     "data": {
      "text/plain": [
       "'Welcome, Bard!'"
      ]
     },
     "execution_count": 15,
     "metadata": {},
     "output_type": "execute_result"
    }
   ],
   "source": [
    "import random\n",
    "def greet_user(username):\n",
    "  greetings = [\n",
    "        \"Hello\",\n",
    "        \"Hi\",\n",
    "        \"Greetings\",\n",
    "        \"Hey\",\n",
    "        \"Welcome\"\n",
    "    ]\n",
    "  greeting = random.choice(greetings)\n",
    "  return f\"{greeting}, {username}!\"\n",
    "\n",
    "username = \"Bard\"\n",
    "greet_user(username)"
   ]
  },
  {
   "cell_type": "code",
   "execution_count": 16,
   "id": "e7129708-8c14-420a-a163-c20b9d70483b",
   "metadata": {},
   "outputs": [],
   "source": [
    "def farewell_user(self, username):\n",
    "        farewells = [\n",
    "            \"Goodbye\",\n",
    "            \"See you later\",\n",
    "            \"Take care\",\n",
    "            \"Farewell\",\n",
    "            \"Have a great day\"\n",
    "        ]\n"
   ]
  },
  {
   "cell_type": "code",
   "execution_count": 17,
   "id": "5f990fa8-6f39-4d9b-80fb-2869a125863e",
   "metadata": {},
   "outputs": [
    {
     "data": {
      "text/plain": [
       "'Have a good one, Bard!'"
      ]
     },
     "execution_count": 17,
     "metadata": {},
     "output_type": "execute_result"
    }
   ],
   "source": [
    "import random\n",
    "\n",
    "def farewell_user(username):\n",
    "  farewells = [\n",
    "          \"Goodbye\",\n",
    "          \"See you later\",\n",
    "          \"Farewell\",\n",
    "          \"Take care\",\n",
    "          \"Have a good one\"\n",
    "      ]\n",
    "  farewell = random.choice(farewells)\n",
    "  return f\"{farewell}, {username}!\"\n",
    "\n",
    "username = \"Bard\"\n",
    "farewell_user(username)"
   ]
  },
  {
   "cell_type": "code",
   "execution_count": 18,
   "id": "2d0bf5ac-9a8f-4e7d-b1e1-fd5a09a0cced",
   "metadata": {},
   "outputs": [],
   "source": [
    "  def chatbot_response(self, user_input, session_id):\n",
    "        responses = {\n",
    "            \"how are you?\": \"I'm just a bot, but I'm doing great! How can I help you today?\",\n",
    "            \"what's your name?\": \"I'm ChatGPT, your friendly assistant.\",\n",
    "            \"what can you do?\": \"I can help answer questions, chat with you, and assist with various tasks.\",\n",
    "            \"tell me a joke\": \"Why don't scientists trust atoms? Because they make up everything!\",\n",
    "            \"what is the capital of France?\": \"The capital of France is Paris.\",\n",
    "            \"goodbye\": self.farewell_user(session_id)\n",
    "        }\n"
   ]
  },
  {
   "cell_type": "code",
   "execution_count": 19,
   "id": "5ba223a0-a64d-4775-800e-4f66c7f53bfd",
   "metadata": {},
   "outputs": [
    {
     "data": {
      "text/plain": [
       "'Hi there!'"
      ]
     },
     "execution_count": 19,
     "metadata": {},
     "output_type": "execute_result"
    }
   ],
   "source": [
    "def get_response(user_input):\n",
    "  user_input = user_input.lower()\n",
    "  responses = {\n",
    "    \"hello\": \"Hi there!\",\n",
    "    \"how are you?\": \"I'm doing well, thank you!\"\n",
    "  }\n",
    "  response = responses.get(user_input, \"Sorry, I don't understand that question. Can you ask something else?\")\n",
    "  return response\n",
    "\n",
    "get_response(\"hello\")"
   ]
  },
  {
   "cell_type": "code",
   "execution_count": 20,
   "id": "4056a876-2b24-4c11-bd16-16429c298e3b",
   "metadata": {},
   "outputs": [
    {
     "data": {
      "text/plain": [
       "[('hello', 'hi there!')]"
      ]
     },
     "execution_count": 20,
     "metadata": {},
     "output_type": "execute_result"
    }
   ],
   "source": [
    "class SessionManager:\n",
    "  def __init__(self):\n",
    "    self.sessions = {}\n",
    "\n",
    "  def add_to_session_history(self, session_id, user_input, response):\n",
    "    if session_id not in self.sessions:\n",
    "      self.sessions[session_id] = []\n",
    "    self.sessions[session_id].append((user_input, response))\n",
    "    return response\n",
    "\n",
    "  def get_session_history(self, session_id):\n",
    "    return self.sessions.get(session_id, [])\n",
    "\n",
    "session_manager = SessionManager()\n",
    "session_manager.add_to_session_history(\"123\", \"hello\", \"hi there!\")\n",
    "session_manager.get_session_history(\"123\")"
   ]
  },
  {
   "cell_type": "code",
   "execution_count": 21,
   "id": "ddde4ef2-6b78-49ec-ba6e-6dce7383ca26",
   "metadata": {},
   "outputs": [
    {
     "name": "stdout",
     "output_type": "stream",
     "text": [
      "None\n"
     ]
    }
   ],
   "source": [
    "chatbot = Chatbot()\n",
    "username = \"Alice\"\n",
    "session_id = \"session_1\"\n",
    "print(chatbot.greet_user(username))"
   ]
  },
  {
   "cell_type": "code",
   "execution_count": 24,
   "id": "75f13e17-0cd1-4991-8eac-27bcd36fb778",
   "metadata": {},
   "outputs": [],
   "source": [
    "class Chatbot:\n",
    "    def __init__(self):\n",
    "        self.sessions = {}\n",
    "\n",
    "    def greet_user(self, username):\n",
    "        greetings = [\n",
    "            \"Hello\",\n",
    "            \"Hi\",\n",
    "            \"Greetings\",\n",
    "            \"Hey\",\n",
    "            \"Welcome\"\n",
    "        ]\n",
    "        greeting = random.choice(greetings)\n",
    "        return f\"{greeting}, {username}!\"\n",
    "\n",
    "    def farewell_user(self, username):\n",
    "        farewells = [\n",
    "            \"Goodbye\",\n",
    "            \"See you later\",\n",
    "            \"Take care\",\n",
    "            \"Farewell\",\n",
    "            \"Have a great day\"\n",
    "        ]\n",
    "        farewell = random.choice(farewells)\n",
    "        return f\"{farewell}, {username}!\"\n",
    "\n",
    "    def chatbot_response(self, user_input, session_id):\n",
    "        responses = {\n",
    "            \"how are you?\": \"I'm just a bot, but I'm doing great! How can I help you today?\",\n",
    "            \"what's your name?\": \"I'm ChatGPT, your friendly assistant.\",\n",
    "            \"what can you do?\": \"I can help answer questions, chat with you, and assist with various tasks.\",\n",
    "            \"tell me a joke\": \"Why don't scientists trust atoms? Because they make up everything!\",\n",
    "            \"what is the capital of France?\": \"The capital of France is Paris.\",\n",
    "            \"goodbye\": self.farewell_user(session_id)\n",
    "        }\n",
    "        return responses.get(user_input.lower(), \"Sorry, I don't understand that question. Can you ask something else?\")\n",
    "\n"
   ]
  },
  {
   "cell_type": "code",
   "execution_count": 23,
   "id": "50ebf140-6d69-4e34-90aa-362f2049021d",
   "metadata": {},
   "outputs": [],
   "source": [
    "class Chatbot:\n",
    "    def __init__(self):\n",
    "        self.sessions = {}\n",
    "        self.questions = [\n",
    "            \"What is your favorite color?\",\n",
    "            \"Do you have any pets?\",\n",
    "            \"What is your favorite hobby?\"\n",
    "        ]\n"
   ]
  },
  {
   "cell_type": "code",
   "execution_count": 25,
   "id": "8975c089-8906-48c5-bdc5-e9b4805390dc",
   "metadata": {},
   "outputs": [],
   "source": [
    "import random\n",
    "\n",
    "def farewell_user(self, username):\n",
    "    farewells = [\n",
    "        \"Goodbye\",\n",
    "        \"See you later\",\n",
    "        \"Take care\",\n",
    "        \"Farewell\",\n",
    "        \"Have a great day\"\n",
    "    ]\n",
    "    farewell = random.choice(farewells)\n",
    "    return f\"{farewell}, {username}!\""
   ]
  },
  {
   "cell_type": "code",
   "execution_count": 26,
   "id": "b16a6a0d-dac4-4307-a42e-1e96fcbe2150",
   "metadata": {},
   "outputs": [],
   "source": [
    "def ask_next_question(self, session_id):\n",
    "    session = self.sessions.get(session_id)\n",
    "    if session is None:\n",
    "        return None  # Or handle the case where the session doesn't exist\n",
    "\n",
    "    if 'question_index' not in session:\n",
    "        session['question_index'] = 0\n",
    "\n",
    "    if session['question_index'] < len(self.questions):\n",
    "        question = self.questions[session['question_index']]\n",
    "        session['question_index'] += 1\n",
    "        return question\n",
    "    else:\n",
    "        return None  # Or handle the case where there are no more questions"
   ]
  },
  {
   "cell_type": "code",
   "execution_count": 27,
   "id": "91d1ab8d-ecde-405f-9633-d85e4dc96854",
   "metadata": {},
   "outputs": [],
   "source": [
    " def chatbot_response(self, user_input, session_id):\n",
    "        if session_id not in self.sessions:\n",
    "            self.sessions[session_id] = {'history': [], 'context': {}, 'question_index': 0}\n",
    "\n",
    "        session = self.sessions[session_id]\n",
    "        history = session['history']\n",
    "        context = session['context']\n",
    "\n",
    "        user_input = user_input.lower()  # Make the input case-insensitive\n"
   ]
  },
  {
   "cell_type": "code",
   "execution_count": 28,
   "id": "0c9c37d3-4f0c-4fc9-98f2-4874e24b7f6c",
   "metadata": {},
   "outputs": [],
   "source": [
    "def chatbot_response(self, user_input, session_id):\n",
    "        if session_id not in self.sessions:\n",
    "            self.sessions[session_id] = {'history': [], 'context': {}, 'question_index': 0} # this line needs to be indented\n",
    "\n",
    "        session = self.sessions[session_id]"
   ]
  },
  {
   "cell_type": "code",
   "execution_count": 29,
   "id": "6b21e632-9e14-492b-b907-a937f67b4bb0",
   "metadata": {},
   "outputs": [],
   "source": [
    "class Chatbot:\n",
    "    def __init__(self):\n",
    "        self.sessions = {}\n",
    "        self.questions = [\n",
    "            \"What is your favorite color?\",\n",
    "            \"Do you have any pets?\",\n",
    "            \"What is your favorite hobby?\"\n",
    "        ]\n"
   ]
  },
  {
   "cell_type": "code",
   "execution_count": 30,
   "id": "de47b4ac-fb9d-43f7-a020-74e280ecbc50",
   "metadata": {},
   "outputs": [],
   "source": [
    "def greet_user(self, username):\n",
    "        greetings = [\n",
    "            \"Hello\",\n",
    "            \"Hi\",\n",
    "            \"Greetings\",\n",
    "            \"Hey\",\n",
    "            \"Welcome\"\n",
    "        ]\n",
    "\n"
   ]
  },
  {
   "cell_type": "code",
   "execution_count": 31,
   "id": "1ad2a73d-6756-4d68-959d-e1bcd1090177",
   "metadata": {},
   "outputs": [],
   "source": [
    "import random\n",
    "\n",
    "def greet_user(self, username):\n",
    "    greetings = [\n",
    "        \"Hello\",\n",
    "        \"Hi\",\n",
    "        \"Greetings\",\n",
    "        \"Hey\",\n",
    "        \"Welcome\"\n",
    "    ]\n",
    "    farewells = [ # define farewells list\n",
    "        \"Goodbye\",\n",
    "        \"See you later\",\n",
    "        \"Farewell\",\n",
    "        \"Take care\"\n",
    "    ]\n",
    "    farewell = random.choice(farewells)\n",
    "    return f\"{farewell}, {username}!\""
   ]
  },
  {
   "cell_type": "code",
   "execution_count": 32,
   "id": "fc39f07b-f828-4511-a68f-35e2590a15de",
   "metadata": {},
   "outputs": [],
   "source": [
    "import random\n",
    "\n",
    "class Chatbot:\n",
    "    def __init__(self):\n",
    "        self.sessions = {}\n",
    "        self.questions = [\n",
    "            \"What is your favorite color?\",\n",
    "            \"How many pets do you have?\",\n",
    "            \"What are your hobbies?\"\n",
    "        ]\n",
    "\n",
    "    def farewell_user(self, username):\n",
    "        farewells = [\n",
    "            \"Goodbye\",\n",
    "            \"See you later\",\n",
    "            \"Take care\",\n",
    "            \"Farewell\",\n",
    "            \"Have a great day\"\n",
    "        ]\n",
    "        farewell = random.choice(farewells)\n",
    "        return f\"{farewell}, {username}!\"\n",
    "\n",
    "    def ask_next_question(self, session_id):\n",
    "        session = self.sessions.get(session_id)\n",
    "        if session is None:\n",
    "            return None  # Or handle the case where the session doesn't exist\n",
    "\n",
    "        if 'question_index' not in session:\n",
    "            session['question_index'] = 0\n",
    "\n",
    "        if session['question_index'] < len(self.questions):\n",
    "            question = self.questions[session['question_index']]\n",
    "            session['question_index'] += 1\n",
    "            return question\n",
    "        else:\n",
    "            return None  # Or handle the case where there are no more questions"
   ]
  },
  {
   "cell_type": "code",
   "execution_count": 33,
   "id": "46e20151-766a-4e08-8256-824bd673c628",
   "metadata": {},
   "outputs": [],
   "source": [
    "def chatbot_response(self, user_input, session_id):\n",
    "    if session_id not in self.sessions:\n",
    "        self.sessions[session_id] = {'history': [], 'context': {}, 'question_index': 0}\n",
    "\n",
    "    session = self.sessions[session_id]\n",
    "    history = session['history']\n",
    "    context = session['context']\n",
    "\n",
    "    user_input_lower = user_input.lower()  # Make the input case-insensitive\n",
    "\n",
    "    if session['question_index'] > 0 and session['question_index'] <= len(self.questions):\n",
    "        last_question = self.questions[session['question_index'] - 1]\n",
    "        context[last_question] = user_input\n",
    "\n",
    "    responses = {\n",
    "        \"how are you?\": \"I'm just a bot, but I'm doing great! How can I help you today?\",\n",
    "        \"what's your name?\": \"I'm ChatGPT, your friendly assistant.\",\n",
    "        \"what can you do?\": \"I can help answer questions, chat with you, and assist with various tasks.\",\n",
    "        \"tell me a joke\": \"Why don't scientists trust atoms? Because they make up everything!\",\n",
    "        \"what is the capital of france?\": \"The capital of France is Paris.\",\n",
    "        \"goodbye\": self.farewell_user(session_id)\n",
    "    }\n",
    "\n",
    "    if user_input_lower in responses:\n",
    "        response = responses[user_input_lower]\n",
    "    else:\n",
    "        # Check if we need to react to previous user responses\n",
    "        if session['question_index'] > 0 and session['question_index'] <= len(self.questions):\n",
    "            last_question = self.questions[session['question_index'] - 1]\n",
    "            if last_question in context:\n",
    "                # Add code to handle the case where the last question is in the context\n",
    "                # For example:\n",
    "                response = f\"I see you answered: {context[last_question]}. That's interesting!\"\n",
    "\n",
    "    return response # Add this line to return the response"
   ]
  },
  {
   "cell_type": "code",
   "execution_count": 34,
   "id": "39a1eab2-f992-48a5-8c67-d2df5d00fcc5",
   "metadata": {},
   "outputs": [],
   "source": [
    "def chatbot_response(self, user_input, session_id):\n",
    "        if session_id not in self.sessions:\n",
    "            self.sessions[session_id] = {'history': [], 'context': {}, 'question_index': 0}\n",
    "\n",
    "        session = self.sessions[session_id]\n",
    "        history = session['history']\n",
    "        context = session['context']\n",
    "\n",
    "        user_input_lower = user_input.lower()  # Make the input case-insensitive\n",
    "\n",
    "        if session['question_index'] > 0 and session['question_index'] <= len(self.questions):\n",
    "            last_question = self.questions[session['question_index'] - 1]\n",
    "            context[last_question] = user_input\n",
    "\n",
    "        responses = {\n",
    "            \"how are you?\": \"I'm just a bot, but I'm doing great! How can I help you today?\",\n",
    "            \"what's your name?\": \"I'm ChatGPT, your friendly assistant.\",\n",
    "            \"what can you do?\": \"I can help answer questions, chat with you, and assist with various tasks.\",\n",
    "            \"tell me a joke\": \"Why don't scientists trust atoms? Because they make up everything!\",\n",
    "            \"what is the capital of france?\": \"The capital of France is Paris.\",\n",
    "            \"goodbye\": self.farewell_user(session_id)\n",
    "        }\n",
    "\n",
    "        response = \"\" # Initialize response here\n",
    "\n",
    "        if user_input_lower in responses:\n",
    "            response = responses[user_input_lower]\n",
    "        else:\n",
    "            # Check if we need to react to previous user responses\n",
    "            if session['question_index'] > 0 and session['question_index'] <= len(self.questions):\n",
    "                last_question = self.questions[session['question_index'] - 1]\n",
    "                if last_question in context:\n",
    "                    # Add code to handle the case where the last question is in the context\n",
    "                    # For example:\n",
    "                    response = f\"I see you answered: {context[last_question]}. That's interesting!\"\n",
    "\n",
    "        return response # Add this line to return the response"
   ]
  },
  {
   "cell_type": "code",
   "execution_count": 35,
   "id": "e36995b3-35a3-44cb-95d5-9eddc34a96ff",
   "metadata": {},
   "outputs": [],
   "source": [
    "import random\n",
    "\n",
    "class Chatbot:\n",
    "    def __init__(self):\n",
    "        self.sessions = {}\n",
    "        self.questions = [\n",
    "            \"What is your favorite color?\",\n",
    "            \"How many pets do you have?\",\n",
    "            \"What are your hobbies?\"\n",
    "        ]\n",
    "\n",
    "    def greet_user(self, username): # Added this method to the Chatbot class\n",
    "        greetings = [\n",
    "            \"Hello\",\n",
    "            \"Hi\",\n",
    "            \"Greetings\",\n",
    "            \"Hey\",\n",
    "            \"Welcome\"\n",
    "        ]\n",
    "        greeting = random.choice(greetings)\n",
    "        return f\"{greeting}, {username}!\"\n",
    "\n",
    "    def farewell_user(self, username):\n",
    "        farewells = [\n",
    "            \"Goodbye\",\n",
    "            \"See you later\",\n",
    "            \"Take care\",\n",
    "            \"Farewell\",\n",
    "            \"Have a great day\"\n",
    "        ]\n",
    "        farewell = random.choice(farewells)\n",
    "        return f\"{farewell}, {username}!\"\n",
    "\n",
    "    def ask_next_question(self, session_id):\n",
    "        session = self.sessions.get(session_id)\n",
    "        if session is None:\n",
    "            return None  # Or handle the case where the session doesn't exist\n",
    "\n",
    "        if 'question_index' not in session:\n",
    "            session['question_index'] = 0\n",
    "\n",
    "        if session['question_index'] < len(self.questions):\n",
    "            question = self.questions[session['question_index']]\n",
    "            session['question_index'] += 1\n",
    "            return question\n",
    "        else:\n",
    "            return None  # Or handle the case where there are no more questions\n",
    "\n",
    "    def chatbot_response(self, user_input, session_id):\n",
    "        if session_id not in self.sessions:\n",
    "            self.sessions[session_id] = {'history': [], 'context': {}, 'question_index': 0}\n",
    "\n",
    "        session = self.sessions[session_id]\n",
    "        history = session['history']\n",
    "        context = session['context']\n",
    "\n",
    "        user_input_lower = user_input.lower()  # Make the input case-insensitive\n",
    "\n",
    "        if session['question_index'] > 0 and session['question_index'] <= len(self.questions):\n",
    "            last_question = self.questions[session['question_index'] - 1]\n",
    "            context[last_question] = user_input\n",
    "\n",
    "        responses = {\n",
    "            \"how are you?\": \"I'm just a bot, but I'm doing great! How can I help you today?\",\n",
    "            \"what's your name?\": \"I'm ChatGPT, your friendly assistant.\",\n",
    "            \"what can you do?\": \"I can help answer questions, chat with you, and assist with various tasks.\",\n",
    "            \"tell me a joke\": \"Why don't scientists trust atoms? Because they make up everything!\",\n",
    "            \"what is the capital of france?\": \"The capital of France is Paris.\",\n",
    "            \"goodbye\": self.farewell_user(session_id)\n",
    "        }\n",
    "\n",
    "        response = \"\" # Initialize response here\n",
    "\n",
    "        if user_input_lower in responses:\n",
    "            response = responses[user_input_lower]\n",
    "        else:\n",
    "            # Check if we need to react to previous user responses\n",
    "            if session['question_index'] > 0 and session['question_index'] <= len(self.questions):\n",
    "                last_question = self.questions[session['question_index'] - 1]\n",
    "                if last_question in context:\n",
    "                    # Add code to handle the case where the last question is in the context\n",
    "                    # For example:\n",
    "                    response = f\"I see you answered: {context[last_question]}. That's interesting!\"\n",
    "\n",
    "        session['history'].append(f\"User: {user_input}\") # Add user input to history\n",
    "        session['history'].append(f\"Chatbot: {response}\") # Add chatbot response to history\n",
    "        return response # Add this line to return the response\n",
    "\n",
    "    def get_session_history(self, session_id): # Added this method to Chatbot\n",
    "        session = self.sessions.get(session_id)\n",
    "        if session is not None:\n",
    "            return session['history']\n",
    "        else:\n",
    "            return []\n",
    "\n",
    "chatbot = Chatbot()\n",
    "username = \"Alice\"\n",
    "session_id = \"session_1\""
   ]
  },
  {
   "cell_type": "code",
   "execution_count": 36,
   "id": "08c4eee5-dc7e-4f27-9a5c-b57825a8e6ad",
   "metadata": {},
   "outputs": [],
   "source": [
    "def get_bot_response(user_input):\n",
    "    # Placeholder for bot's response mechanism\n",
    "    response, confidence = chatbot.generate_response(user_input)\n",
    "\n",
    "    if confidence < 0.4:  # Assuming confidence is a score between 0 and 1\n",
    "        response = \"I'm sorry, I didn't understand that. Can you please rephrase your question?\"\n",
    "\n",
    "    return response\n"
   ]
  },
  {
   "cell_type": "code",
   "execution_count": null,
   "id": "04c06bcc-0bb1-4dbf-b3f4-1b6b2d645bb5",
   "metadata": {},
   "outputs": [
    {
     "name": "stdout",
     "output_type": "stream",
     "text": [
      "You:  hiii monika\n"
     ]
    },
    {
     "name": "stdout",
     "output_type": "stream",
     "text": [
      "Chatbot: I'm not sure I understand.\n"
     ]
    },
    {
     "name": "stdout",
     "output_type": "stream",
     "text": [
      "You:  how are you\n"
     ]
    },
    {
     "name": "stdout",
     "output_type": "stream",
     "text": [
      "Chatbot: I'm not sure I understand.\n"
     ]
    },
    {
     "name": "stdout",
     "output_type": "stream",
     "text": [
      "You:  hd dinner\n"
     ]
    },
    {
     "name": "stdout",
     "output_type": "stream",
     "text": [
      "Chatbot: I'm not sure I understand.\n"
     ]
    }
   ],
   "source": [
    "def get_bot_response(user_input):\n",
    "  # This is a very simple example, you would normally have more complex logic here\n",
    "  if user_input.lower() == \"hello\":\n",
    "    return \"Hi there!\"\n",
    "  elif user_input.lower() == \"how are you?\":\n",
    "    return \"I'm doing well, thank you!\"\n",
    "  else:\n",
    "    return \"I'm not sure I understand.\"\n",
    "\n",
    "# Simulating chatbot conversation\n",
    "user_input = input(\"You: \")\n",
    "while user_input.lower() != \"exit\":\n",
    "    response = get_bot_response(user_input)\n",
    "    print(f\"Chatbot: {response}\")\n",
    "    user_input = input(\"You: \")\n",
    "\n",
    "print(\"Chatbot: Goodbye!\")"
   ]
  },
  {
   "cell_type": "code",
   "execution_count": null,
   "id": "70a4e97e-fe44-447f-833e-85e108f50b0d",
   "metadata": {},
   "outputs": [],
   "source": []
  }
 ],
 "metadata": {
  "kernelspec": {
   "display_name": "Python 3 (ipykernel)",
   "language": "python",
   "name": "python3"
  },
  "language_info": {
   "codemirror_mode": {
    "name": "ipython",
    "version": 3
   },
   "file_extension": ".py",
   "mimetype": "text/x-python",
   "name": "python",
   "nbconvert_exporter": "python",
   "pygments_lexer": "ipython3",
   "version": "3.12.4"
  }
 },
 "nbformat": 4,
 "nbformat_minor": 5
}
